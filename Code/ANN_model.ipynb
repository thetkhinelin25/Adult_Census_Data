{
 "cells": [
  {
   "cell_type": "markdown",
   "id": "f30e7dd9",
   "metadata": {},
   "source": [
    "# ANN "
   ]
  },
  {
   "cell_type": "markdown",
   "id": "41963c6f",
   "metadata": {},
   "source": [
    "### 📘 Notebook Overview: Developing ANN Model\n",
    "\n",
    "This notebook focuses on building and evaluating a ANN model to predict income levels in the Adult Census dataset. The process includes preprocessing, training, model persistence, and threshold optimization. The following sections are included:\n",
    "\n",
    "---\n",
    "\n",
    "### ▪️ Importing Required Packages  \n",
    "All necessary Python packages and libraries are imported to support preprocessing, modeling, and evaluation tasks.\n",
    "\n",
    "### ▪️ Data Preprocessing  \n",
    "Features are encoded and scaled to input into the ANN model.\n",
    "\n",
    "### ▪️ Training ANN Model  \n",
    "A ANN classifier is trained on the training data using **GridSearchCV** for hyperparameter tuning. The process is parallelized using the `n_jobs` parameter to optimize computation time and find the best combination of parameters for model performance.\n",
    "\n",
    "### ▪️ Save the Model  \n",
    "The trained model is saved using `joblib` for easy reuse without retraining.\n",
    "\n",
    "### ▪️ Load and Evaluate the Model  \n",
    "The saved model is reloaded and evaluated on the test set using classification metrics such as accuracy, precision, recall, and F1-score.\n",
    "\n",
    "### ▪️ Find Best Threshold Value with AUC-PR  \n",
    "AUC-PR (Area Under the Precision-Recall Curve) is used to identify the optimal threshold for classification, improving the model's performance on the minority class.\n",
    "\n",
    "---"
   ]
  },
  {
   "cell_type": "markdown",
   "id": "f35e8b9a",
   "metadata": {},
   "source": [
    "## Importing Required Packages"
   ]
  },
  {
   "cell_type": "code",
   "execution_count": 1,
   "id": "48033c35",
   "metadata": {},
   "outputs": [],
   "source": [
    "import numpy as np\n",
    "import pandas as pd\n",
    "import matplotlib.pyplot as plt\n",
    "import tensorflow as tf\n",
    "\n",
    "from tensorflow import keras\n",
    "from tensorflow.keras.models import Sequential\n",
    "from tensorflow.keras.layers import Dense, Dropout, BatchNormalization\n",
    "from tensorflow.keras.optimizers import Adam\n",
    "from tensorflow.keras.utils import to_categorical\n",
    "from tensorflow.keras.initializers import GlorotUniform, HeNormal\n",
    "from tensorflow.keras.callbacks import EarlyStopping\n",
    "from tensorflow.keras.wrappers.scikit_learn import KerasClassifier\n",
    "from tensorflow.keras.models import load_model\n",
    "\n",
    "from sklearn.model_selection import train_test_split, GridSearchCV\n",
    "from sklearn.preprocessing import StandardScaler, LabelEncoder\n",
    "from sklearn.metrics import (\n",
    "    classification_report, \n",
    "    f1_score, \n",
    "    average_precision_score, \n",
    "    accuracy_score, \n",
    "    balanced_accuracy_score,\n",
    "    precision_recall_curve,\n",
    "    auc,\n",
    ")\n",
    "\n",
    "import time\n",
    "import random\n",
    "import os"
   ]
  },
  {
   "cell_type": "markdown",
   "id": "d3c1cdf3",
   "metadata": {},
   "source": [
    "## Data Preprocessing"
   ]
  },
  {
   "cell_type": "markdown",
   "id": "b1d2c2b4",
   "metadata": {},
   "source": [
    "In this section, I prepared the data for training the ANN model. The main preprocessing steps were:\n",
    "\n",
    "#### 1. Loading the Datasets\n",
    "- Loaded the training and testing datasets that had already undergone imputation and feature selection.\n",
    "\n",
    "#### 2. Encoding the Target Variable\n",
    "- Applied `LabelEncoder` to convert the target variable `income` into numeric values (0 and 1), making it compatible with TensorFlow models.\n",
    "\n",
    "#### 3. Identifying Feature Types\n",
    "- Identified and separated numeric and categorical columns for appropriate preprocessing.\n",
    "\n",
    "#### 4. Encoding Categorical Features\n",
    "- Applied one-hot encoding to convert categorical features into a binary matrix format suitable for model input.\n",
    "\n",
    "#### 5. Aligning Columns\n",
    "- Reindexed the test set to match the structure of the training set, filling any missing columns with zeros.\n",
    "\n",
    "#### 6. Separating Features and Labels\n",
    "- Split the datasets into input features (`X_train`, `X_test`) and target labels (`y_train`, `y_test`).\n",
    "\n",
    "#### 7. Standardizing Numeric Features\n",
    "- Standardized the numeric features using `StandardScaler` to ensure they have a mean of 0 and standard deviation of 1, which helps ANN models converge faster.\n",
    "\n",
    "#### 8. Converting to NumPy Arrays\n",
    "- Converted the datasets into NumPy arrays and set the data types (`float32`) to ensure compatibility and optimal performance with TensorFlow models.\n"
   ]
  },
  {
   "cell_type": "code",
   "execution_count": 2,
   "id": "d5a0e608",
   "metadata": {},
   "outputs": [],
   "source": [
    "# Load datasets\n",
    "train_df = pd.read_csv(\"adult_combined_train_80_imputed_feature_selected.csv\")\n",
    "test_df = pd.read_csv(\"adult_combined_test_20_imputed_feature_selected.csv\")\n",
    "\n",
    "# Encode target variable with LabelEncoder\n",
    "label_enc = LabelEncoder()\n",
    "train_df[\"income\"] = label_enc.fit_transform(train_df[\"income\"])\n",
    "test_df[\"income\"] = label_enc.transform(test_df[\"income\"])\n",
    "\n",
    "# Identify numeric and categorical features\n",
    "numeric_cols = train_df.select_dtypes(include=[\"int64\", \"float64\"]).drop(\"income\", axis=1).columns\n",
    "categorical_cols = train_df.select_dtypes(include=[\"object\"]).columns\n",
    "\n",
    "# One-Hot Encode categorical features\n",
    "train_df = pd.get_dummies(train_df, columns=categorical_cols)\n",
    "test_df = pd.get_dummies(test_df, columns=categorical_cols)\n",
    "\n",
    "# Align test set columns with train set\n",
    "test_df = test_df.reindex(columns=train_df.columns, fill_value=0)\n",
    "\n",
    "# Separate features and labels\n",
    "X_train = train_df.drop(\"income\", axis=1)\n",
    "y_train = train_df[\"income\"]\n",
    "X_test = test_df.drop(\"income\", axis=1)\n",
    "y_test = test_df[\"income\"]\n",
    "\n",
    "# Apply StandardScaler to numeric columns\n",
    "scaler = StandardScaler()\n",
    "X_train[numeric_cols] = scaler.fit_transform(X_train[numeric_cols])\n",
    "X_test[numeric_cols] = scaler.transform(X_test[numeric_cols])\n",
    "\n",
    "# Convert to NumPy arrays with correct dtypes for TensorFlow\n",
    "X_train = X_train.to_numpy().astype(np.float32)\n",
    "X_test = X_test.to_numpy().astype(np.float32)\n",
    "\n",
    "y_train = y_train.to_numpy().astype(np.float32)  # or np.int32 depending on your model output\n",
    "y_test = y_test.to_numpy().astype(np.float32)"
   ]
  },
  {
   "cell_type": "code",
   "execution_count": 3,
   "id": "7efac229",
   "metadata": {},
   "outputs": [
    {
     "data": {
      "text/plain": [
       "array(['<=50K', '>50K'], dtype=object)"
      ]
     },
     "execution_count": 3,
     "metadata": {},
     "output_type": "execute_result"
    }
   ],
   "source": [
    "label_enc.classes_"
   ]
  },
  {
   "cell_type": "markdown",
   "id": "83603b6a",
   "metadata": {},
   "source": [
    "## Training ANN Model"
   ]
  },
  {
   "cell_type": "markdown",
   "id": "9bc76827",
   "metadata": {},
   "source": [
    "In this section, I trained an Artificial Neural Network (ANN) using hyperparameter tuning with `GridSearchCV`. The major steps are:\n",
    "\n",
    "#### 1. Setting Random Seeds\n",
    "- Set random seeds for NumPy, Python, and TensorFlow to ensure reproducibility of results.\n",
    "\n",
    "#### 2. Defining the Model Architecture\n",
    "- Created a `build_model` function to define the ANN architecture:\n",
    "  - **Input Layer:** Dense layer with 50 neurons, ReLU activation, HeNormal weight initialization, followed by batch normalization and dropout.\n",
    "  - **Hidden Layer:** Dense layer with 25 neurons, ReLU activation, batch normalization, and dropout.\n",
    "  - **Output Layer:** Dense layer with 1 neuron and sigmoid activation (for binary classification).\n",
    "- Supported different optimizers (`adam`, `rmsprop`, `sgd`) with customizable learning rates.\n",
    "\n",
    "#### 3. Wrapping the Model for GridSearchCV\n",
    "- Wrapped the Keras model using `KerasClassifier` to make it compatible with `GridSearchCV`.\n",
    "\n",
    "#### 4. Defining the Hyperparameter Grid\n",
    "- Defined a wider range of hyperparameters for tuning.\n",
    "\n",
    "#### 5. Setting Up Early Stopping\n",
    "- Used the `EarlyStopping` callback to prevent overfitting:\n",
    "  - Training stops early if the validation loss does not improve for 10 consecutive epochs.\n",
    "\n",
    "#### 6. Hyperparameter Tuning with GridSearchCV\n",
    "- Performed a grid search with 3-fold cross-validation (`cv=3`).\n",
    "- Used `n_jobs=-1` to parallelize the search across all CPU cores and `verbose=1` to monitor the progress.\n",
    "\n",
    "#### 7. Model Training\n",
    "- Trained the model with an 80-20 training-validation split (`validation_split=0.2`) and used early stopping.\n",
    "- Tracked and printed the total training time in both seconds and minutes.\n",
    "\n"
   ]
  },
  {
   "cell_type": "code",
   "execution_count": 4,
   "id": "ae0234f0",
   "metadata": {},
   "outputs": [
    {
     "name": "stdout",
     "output_type": "stream",
     "text": [
      "Fitting 3 folds for each of 1 candidates, totalling 3 fits\n"
     ]
    },
    {
     "name": "stderr",
     "output_type": "stream",
     "text": [
      "<ipython-input-4-723d73b874be>:36: DeprecationWarning: KerasClassifier is deprecated, use Sci-Keras (https://github.com/adriangb/scikeras) instead. See https://www.adriangb.com/scikeras/stable/migration.html for help migrating.\n",
      "  model = KerasClassifier(build_fn=build_model, verbose=0)\n"
     ]
    },
    {
     "name": "stdout",
     "output_type": "stream",
     "text": [
      "Training time: 53.69 seconds (0.89 minutes)\n"
     ]
    }
   ],
   "source": [
    "start_time = time.time()\n",
    "\n",
    "# Set seed\n",
    "SEED = 999999\n",
    "np.random.seed(SEED)\n",
    "random.seed(SEED)\n",
    "tf.random.set_seed(SEED)\n",
    "\n",
    "# Define model builder\n",
    "def build_model(optimizer='adam', learning_rate=0.001, dropout_rate=0.1):\n",
    "    model = Sequential([\n",
    "        Dense(50, activation='relu', kernel_initializer=HeNormal(), input_shape=(X_train.shape[1],)),\n",
    "        BatchNormalization(),\n",
    "        Dropout(dropout_rate),\n",
    "        \n",
    "        Dense(25, activation='relu', kernel_initializer=HeNormal()),\n",
    "        BatchNormalization(),\n",
    "        Dropout(dropout_rate),\n",
    "        \n",
    "        Dense(1, activation='sigmoid', kernel_initializer=GlorotUniform())\n",
    "    ])\n",
    "\n",
    "    if optimizer == 'adam':\n",
    "        opt = tf.keras.optimizers.Adam(learning_rate=learning_rate)\n",
    "    elif optimizer == 'rmsprop':\n",
    "        opt = tf.keras.optimizers.RMSprop(learning_rate=learning_rate)\n",
    "    else:\n",
    "        opt = tf.keras.optimizers.SGD(learning_rate=learning_rate)\n",
    "\n",
    "    model.compile(optimizer=opt,\n",
    "                  loss='binary_crossentropy',\n",
    "                  metrics=['accuracy'])\n",
    "    return model\n",
    "\n",
    "# Wrap the model using KerasClassifier\n",
    "model = KerasClassifier(build_fn=build_model, verbose=0)\n",
    "\n",
    "# Define parameter grid\n",
    "\n",
    "'''\n",
    "ann_params = {\n",
    "    'epochs': [50, 100],\n",
    "    'batch_size': [16, 32],\n",
    "    'optimizer': ['adam', 'rmsprop'],\n",
    "    'learning_rate': [0.001],\n",
    "    'dropout_rate': [0.1, 0.3]\n",
    "}\n",
    "\n",
    "'''\n",
    "\n",
    "# Best Parameters (received after the training) \n",
    "ann_params = {\n",
    "    'epochs': [50],\n",
    "    'batch_size': [32],\n",
    "    'optimizer': ['rmsprop'],\n",
    "    'learning_rate': [0.001],\n",
    "    'dropout_rate': [0.1]\n",
    "}\n",
    "\n",
    "\n",
    "# Early stopping callback\n",
    "early_stop = EarlyStopping(monitor='val_loss', patience=10, min_delta=0.001, restore_best_weights=True)\n",
    "\n",
    "# GridSearchCV\n",
    "ann_grid = GridSearchCV(estimator=model, param_grid=ann_params, n_jobs=-1, cv=3, verbose=1)\n",
    "ann_grid.fit(X_train, y_train, callbacks=[early_stop], validation_split=0.2)\n",
    "\n",
    "end_time = time.time()\n",
    "print(f\"Training time: {(end_time - start_time):.2f} seconds ({(end_time - start_time)/60:.2f} minutes)\")"
   ]
  },
  {
   "cell_type": "code",
   "execution_count": 5,
   "id": "a889a280",
   "metadata": {},
   "outputs": [
    {
     "name": "stdout",
     "output_type": "stream",
     "text": [
      "Best parameters found by GridSearchCV:\n",
      "{'batch_size': 32, 'dropout_rate': 0.1, 'epochs': 50, 'learning_rate': 0.001, 'optimizer': 'rmsprop'}\n"
     ]
    }
   ],
   "source": [
    "print(\"Best parameters found by GridSearchCV:\")\n",
    "print(ann_grid.best_params_)"
   ]
  },
  {
   "cell_type": "markdown",
   "id": "cc68145e",
   "metadata": {},
   "source": [
    "## Save the Model"
   ]
  },
  {
   "cell_type": "code",
   "execution_count": 6,
   "id": "8501fea1",
   "metadata": {},
   "outputs": [
    {
     "name": "stdout",
     "output_type": "stream",
     "text": [
      "Model saved as ann_model.h5\n"
     ]
    }
   ],
   "source": [
    "model = ann_grid.best_estimator_.model  # This accesses the underlying Keras model\n",
    "\n",
    "model.save(\"ann_model.h5\")\n",
    "print(\"Model saved as ann_model.h5\")"
   ]
  },
  {
   "cell_type": "markdown",
   "id": "5cd0d50c",
   "metadata": {},
   "source": [
    "## Load and Evaluate the Model with Test Data"
   ]
  },
  {
   "cell_type": "markdown",
   "id": "2d0a0cb1",
   "metadata": {},
   "source": [
    "In this section, I loaded the saved ANN model and evaluated its performance on the test dataset. The main steps were:\n",
    "\n",
    "#### 1. Loading the Saved Model\n",
    "- Loaded the trained ANN model from the file `ann_model.h5` using `load_model`.\n",
    "\n",
    "#### 2. Making Predictions\n",
    "- Predicted the probabilities (`ann_probs`) for the test set.\n",
    "- Converted probabilities into binary class predictions (`ann_pred`) by applying a threshold of 0.5.\n",
    "\n",
    "#### 3. Evaluating the Model\n",
    "- Evaluated the model using several performance metrics:\n",
    "  - **Classification Report:** Summarizes precision, recall, f1-score, and support for each class.\n",
    "  - **Balanced Accuracy Score:** Averages the recall obtained on each class, useful for imbalanced datasets.\n",
    "  - **Accuracy Score:** Measures the overall proportion of correct predictions.\n",
    "  - **F1 Score:** Combines precision and recall, especially useful when classes are imbalanced.\n",
    "  - **AUC-PR (Area Under the Precision-Recall Curve):** Provides a performance measure especially important for imbalanced data.\n"
   ]
  },
  {
   "cell_type": "code",
   "execution_count": 7,
   "id": "5980cf05",
   "metadata": {},
   "outputs": [
    {
     "name": "stdout",
     "output_type": "stream",
     "text": [
      "301/301 [==============================] - 0s 512us/step\n",
      "\n",
      "📊 Classification Report:\n",
      "               precision    recall  f1-score   support\n",
      "\n",
      "       <=50K       0.89      0.93      0.91      7310\n",
      "        >50K       0.74      0.64      0.68      2295\n",
      "\n",
      "    accuracy                           0.86      9605\n",
      "   macro avg       0.81      0.78      0.80      9605\n",
      "weighted avg       0.85      0.86      0.86      9605\n",
      "\n",
      "✅ Balanced Accuracy Score: 0.7834118660384051\n",
      "✔️ Accuracy: 0.8589276418532015\n",
      "🎯 F1 Score: 0.6839281548868673\n",
      "📈 AUC-PR: 0.7796532034101312\n"
     ]
    }
   ],
   "source": [
    "loaded_ann = load_model(\"ann_model.h5\")\n",
    "\n",
    "ann_probs = loaded_ann.predict(X_test).flatten()\n",
    "ann_pred = (ann_probs > 0.5).astype(int)\n",
    "\n",
    "# 9. Print results\n",
    "print(\"\\n📊 Classification Report:\\n\", classification_report(y_test, ann_pred, target_names=label_enc.classes_))\n",
    "print(\"✅ Balanced Accuracy Score:\", balanced_accuracy_score(y_test, ann_pred))\n",
    "print(\"✔️ Accuracy:\", accuracy_score(y_test, ann_pred))\n",
    "print(\"🎯 F1 Score:\", f1_score(y_test, ann_pred))\n",
    "print(\"📈 AUC-PR:\", average_precision_score(y_test, ann_probs))"
   ]
  },
  {
   "cell_type": "markdown",
   "id": "54113d6e",
   "metadata": {},
   "source": [
    "## Find Best Threshold Value with AUC-PR"
   ]
  },
  {
   "cell_type": "markdown",
   "id": "5494e62f",
   "metadata": {},
   "source": [
    "In this section, I analyzed the model's precision-recall performance and selected the best decision threshold to maximize the F1 score. The main steps were:\n",
    "\n",
    "#### 1. Calculate Precision, Recall, and Thresholds\n",
    "- Used `precision_recall_curve` to compute precision, recall, and threshold values based on the model's predicted probabilities.\n",
    "\n",
    "#### 2. Calculate AUC-PR\n",
    "- Computed the **Area Under the Precision-Recall Curve (AUC-PR)** using the `auc` function.\n",
    "\n",
    "#### 3. Find the Best Threshold\n",
    "- Calculated the F1 score at each threshold.\n",
    "- Identified the threshold that gave the **highest F1 score**, indicating the best balance between precision and recall.\n",
    "\n",
    "#### 4. Visualize the Precision-Recall Curve\n",
    "- Plotted the precision-recall curve.\n",
    "- Highlighted the point corresponding to the best threshold to visualize where the model performs best.\n",
    "\n",
    "#### 5. Apply the Best Threshold\n",
    "- Converted predicted probabilities into binary class predictions based on the best threshold.\n",
    "- Re-evaluated model performance using:\n",
    "  - **Classification Report** (precision, recall, F1-score)\n",
    "  - **Balanced Accuracy Score**\n",
    "  - **Accuracy**\n",
    "  - **F1 Score**\n",
    "\n",
    "Using a custom threshold (instead of the default 0.5) helps to better optimize model performance, especially in cases of class imbalance."
   ]
  },
  {
   "cell_type": "code",
   "execution_count": 8,
   "id": "7f19c0fc",
   "metadata": {},
   "outputs": [
    {
     "name": "stdout",
     "output_type": "stream",
     "text": [
      "📈 AUC-PR (using auc): 0.7796006603164347\n",
      "\n",
      "🔥 Best Threshold = 0.3835\n",
      "🎯 Best F1 Score = 0.7034\n"
     ]
    },
    {
     "data": {
      "image/png": "[encoded data removed]",
      "text/plain": [
       "<Figure size 576x432 with 1 Axes>"
      ]
     },
     "metadata": {
      "needs_background": "light"
     },
     "output_type": "display_data"
    },
    {
     "name": "stdout",
     "output_type": "stream",
     "text": [
      "\n",
      "📊 Classification Report:\n",
      "               precision    recall  f1-score   support\n",
      "\n",
      "         0.0       0.92      0.88      0.90      7310\n",
      "         1.0       0.66      0.75      0.70      2295\n",
      "\n",
      "    accuracy                           0.85      9605\n",
      "   macro avg       0.79      0.81      0.80      9605\n",
      "weighted avg       0.86      0.85      0.85      9605\n",
      "\n",
      "✅ Balanced Accuracy Score: 0.8145665501342656\n",
      "✔️ Accuracy: 0.8492451847995836\n",
      "🎯 F1 Score: 0.7034002458009013\n"
     ]
    }
   ],
   "source": [
    "# Calculate precision, recall, thresholds\n",
    "precision, recall, thresholds = precision_recall_curve(y_test, ann_probs)\n",
    "\n",
    "# Calculate AUC-PR and Average Precision\n",
    "auc_pr = auc(recall, precision)\n",
    "\n",
    "print(\"📈 AUC-PR (using auc):\", auc_pr)\n",
    "\n",
    "# Calculate F1 scores for each threshold (length of thresholds = len(precision) - 1)\n",
    "f1_scores = 2 * (precision[:-1] * recall[:-1]) / (precision[:-1] + recall[:-1])\n",
    "best_idx = np.argmax(f1_scores)\n",
    "best_threshold = thresholds[best_idx]\n",
    "best_f1 = f1_scores[best_idx]\n",
    "\n",
    "print(f\"\\n🔥 Best Threshold = {best_threshold:.4f}\")\n",
    "print(f\"🎯 Best F1 Score = {best_f1:.4f}\")\n",
    "\n",
    "# 4. Plot PR Curve and mark best threshold\n",
    "plt.figure(figsize=(8, 6))\n",
    "plt.plot(recall, precision, label=f'AUC-PR = {auc_pr:.4f}')\n",
    "plt.scatter(recall[best_idx], precision[best_idx], color='red', label=f'Best Threshold = {best_threshold:.4f}')\n",
    "plt.xlabel('Recall')\n",
    "plt.ylabel('Precision')\n",
    "plt.title('Precision-Recall Curve')\n",
    "plt.legend(loc='lower left')\n",
    "plt.grid()\n",
    "plt.show()\n",
    "\n",
    "# Apply best threshold to get predicted class labels\n",
    "y_pred_best = (ann_probs >= best_threshold).astype(int)\n",
    "\n",
    "# 6. Print classification report using best threshold\n",
    "print(\"\\n📊 Classification Report:\\n\", classification_report(y_test, y_pred_best))\n",
    "print(\"✅ Balanced Accuracy Score:\", balanced_accuracy_score(y_test, y_pred_best))\n",
    "print(\"✔️ Accuracy:\", accuracy_score(y_test, y_pred_best))\n",
    "print(\"🎯 F1 Score:\", f1_score(y_test, y_pred_best))"
   ]
  },
  {
   "cell_type": "code",
   "execution_count": null,
   "id": "1236aaa4",
   "metadata": {},
   "outputs": [],
   "source": []
  },
  {
   "cell_type": "code",
   "execution_count": null,
   "id": "1d8877ba",
   "metadata": {},
   "outputs": [],
   "source": []
  }
 ],
 "metadata": {
  "kernelspec": {
   "display_name": "Python 3.9 (tensorflow)",
   "language": "python",
   "name": "tensorflow"
  },
  "language_info": {
   "codemirror_mode": {
    "name": "ipython",
    "version": 3
   },
   "file_extension": ".py",
   "mimetype": "text/x-python",
   "name": "python",
   "nbconvert_exporter": "python",
   "pygments_lexer": "ipython3",
   "version": "3.9.18"
  }
 },
 "nbformat": 4,
 "nbformat_minor": 5
}
