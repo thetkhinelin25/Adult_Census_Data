{
 "cells": [
  {
   "cell_type": "markdown",
   "id": "85cefcb4",
   "metadata": {},
   "source": [
    "# Gradient Boosting Machine (GBM)"
   ]
  },
  {
   "cell_type": "markdown",
   "id": "272478f5",
   "metadata": {},
   "source": [
    "### 📘 Notebook Overview: Developing GBM Model\n",
    "\n",
    "This notebook focuses on building and evaluating a Gradient Boosting Machine (GBM) model to predict income levels in the Adult Census dataset. The process includes preprocessing, training, model persistence, and threshold optimization. The following sections are included:\n",
    "\n",
    "---\n",
    "\n",
    "### ▪️ Importing Required Packages  \n",
    "All necessary Python packages and libraries are imported to support preprocessing, modeling, and evaluation tasks.\n",
    "\n",
    "### ▪️ Data Preprocessing  \n",
    "Features are encoded and scaled to input into the GBM model.\n",
    "\n",
    "### ▪️ Training GBM Model  \n",
    "A GBM classifier is trained on the training data using **GridSearchCV** for hyperparameter tuning. The process is parallelized using the `n_jobs` parameter to optimize computation time and find the best combination of parameters for model performance.\n",
    "\n",
    "### ▪️ Save the Model  \n",
    "The trained model is saved using `joblib` for easy reuse without retraining.\n",
    "\n",
    "### ▪️ Load and Evaluate the Model  \n",
    "The saved model is reloaded and evaluated on the test set using classification metrics such as accuracy, precision, recall, and F1-score.\n",
    "\n",
    "### ▪️ Find Best Threshold Value with AUC-PR  \n",
    "AUC-PR (Area Under the Precision-Recall Curve) is used to identify the optimal threshold for classification, improving the model's performance on the minority class.\n",
    "\n",
    "---\n"
   ]
  },
  {
   "cell_type": "markdown",
   "id": "da8911f0",
   "metadata": {},
   "source": [
    "## Importing Required Packages"
   ]
  },
  {
   "cell_type": "code",
   "execution_count": 1,
   "id": "4f179989",
   "metadata": {},
   "outputs": [],
   "source": [
    "import pandas as pd\n",
    "import numpy as np\n",
    "import matplotlib.pyplot as plt\n",
    "\n",
    "from sklearn.model_selection import GridSearchCV\n",
    "from sklearn.preprocessing import LabelEncoder, StandardScaler\n",
    "from sklearn.ensemble import GradientBoostingClassifier\n",
    "from sklearn.metrics import (\n",
    "    classification_report, \n",
    "    f1_score, \n",
    "    average_precision_score, \n",
    "    accuracy_score, \n",
    "    balanced_accuracy_score,\n",
    "    precision_recall_curve,\n",
    "    auc,\n",
    ")\n",
    "\n",
    "import time\n",
    "import joblib"
   ]
  },
  {
   "cell_type": "markdown",
   "id": "97059be0",
   "metadata": {},
   "source": [
    "## Data Preprocessing"
   ]
  },
  {
   "cell_type": "markdown",
   "id": "c3daac9f",
   "metadata": {},
   "source": [
    "In this section, I prepared the data before training the GBM model. The main preprocessing steps were:\n",
    "\n",
    "#### 1. Loading the Datasets\n",
    "- Loaded the training and testing datasets that had already undergone imputation and feature selection.\n",
    "\n",
    "#### 2. Encoding the Target Variable\n",
    "- Used `LabelEncoder` to convert the target variable `income` into numeric values (0 and 1), making it suitable for model training.\n",
    "\n",
    "#### 3. Identifying Feature Types\n",
    "- Separated the features into numeric and categorical columns to handle them appropriately during preprocessing.\n",
    "\n",
    "#### 4. Encoding Categorical Features\n",
    "- Applied one-hot encoding to transform categorical variables into a binary format that machine learning models can process.\n",
    "\n",
    "#### 5. Aligning Columns\n",
    "- After one-hot encoding, aligned the test set columns to match the training set structure, filling any missing columns with zeros.\n",
    "\n",
    "#### 6. Separating Features and Labels\n",
    "- Split the datasets into input features (`X_train`, `X_test`) and target labels (`y_train`, `y_test`) for model training and evaluation.\n",
    "\n",
    "#### 7. Standardizing Numeric Features\n",
    "- Standardized the numeric columns using `StandardScaler` to ensure that all numeric features have a mean of 0 and a standard deviation of 1.\n",
    "- This step helps improve model performance, especially for algorithms sensitive to feature scaling.\n"
   ]
  },
  {
   "cell_type": "code",
   "execution_count": 2,
   "id": "0dc79ad5",
   "metadata": {},
   "outputs": [],
   "source": [
    "# Load datasets\n",
    "train_df = pd.read_csv(\"adult_combined_train_80_imputed_feature_selected.csv\")\n",
    "test_df = pd.read_csv(\"adult_combined_test_20_imputed_feature_selected.csv\")\n",
    "\n",
    "# Encode target variable with LabelEncoder\n",
    "label_enc = LabelEncoder()\n",
    "train_df[\"income\"] = label_enc.fit_transform(train_df[\"income\"])\n",
    "test_df[\"income\"] = label_enc.transform(test_df[\"income\"])\n",
    "\n",
    "# Identify numeric and categorical features\n",
    "numeric_cols = train_df.select_dtypes(include=[\"int64\", \"float64\"]).drop(\"income\", axis=1).columns\n",
    "categorical_cols = train_df.select_dtypes(include=[\"object\"]).columns\n",
    "\n",
    "# One-Hot Encode categorical features\n",
    "train_df = pd.get_dummies(train_df, columns=categorical_cols)\n",
    "test_df = pd.get_dummies(test_df, columns=categorical_cols)\n",
    "\n",
    "# Align test set columns with train set\n",
    "test_df = test_df.reindex(columns=train_df.columns, fill_value=0)\n",
    "\n",
    "# Separate features and labels\n",
    "X_train = train_df.drop(\"income\", axis=1)\n",
    "y_train = train_df[\"income\"]\n",
    "X_test = test_df.drop(\"income\", axis=1)\n",
    "y_test = test_df[\"income\"]\n",
    "\n",
    "# Apply StandardScaler to numeric columns\n",
    "scaler = StandardScaler()\n",
    "X_train[numeric_cols] = scaler.fit_transform(X_train[numeric_cols])\n",
    "X_test[numeric_cols] = scaler.transform(X_test[numeric_cols])"
   ]
  },
  {
   "cell_type": "code",
   "execution_count": 3,
   "id": "e8e92eb1",
   "metadata": {},
   "outputs": [
    {
     "data": {
      "text/plain": [
       "array(['<=50K', '>50K'], dtype=object)"
      ]
     },
     "execution_count": 3,
     "metadata": {},
     "output_type": "execute_result"
    }
   ],
   "source": [
    "label_enc.classes_"
   ]
  },
  {
   "cell_type": "markdown",
   "id": "2215b91c",
   "metadata": {},
   "source": [
    "## Training GBM Model"
   ]
  },
  {
   "cell_type": "markdown",
   "id": "6bba55f3",
   "metadata": {},
   "source": [
    "In this section, I trained a Gradient Boosting Machine (GBM) model using hyperparameter tuning with `GridSearchCV`. The main steps are:\n",
    "\n",
    "#### 1. Define the GBM Model\n",
    "- Initialized a `GradientBoostingClassifier` with a fixed `random_state` to ensure reproducibility.\n",
    "\n",
    "#### 2. Set Up Hyperparameters\n",
    "- Defined a wider range of hyperparameters for tuning.\n",
    "\n",
    "#### 3. Hyperparameter Tuning with GridSearchCV\n",
    "- Used `GridSearchCV` to perform an exhaustive search over the provided hyperparameter grid.\n",
    "- Set `cv=5` for 5-fold cross-validation.\n",
    "- Used `n_jobs=-1` to utilize all available CPU cores for parallel processing and `verbose=1` for printing basic information.\n",
    "\n",
    "#### 4. Model Training\n",
    "- Fitted the GBM model to the training data (`X_train`, `y_train`) using the grid search setup.\n",
    "\n",
    "#### 5. Tracking Training Time\n",
    "- Measured and printed the total training time in both seconds and minutes to monitor resource usage and efficiency.\n"
   ]
  },
  {
   "cell_type": "code",
   "execution_count": 4,
   "id": "d86a6c6b",
   "metadata": {},
   "outputs": [
    {
     "name": "stdout",
     "output_type": "stream",
     "text": [
      "Fitting 5 folds for each of 1 candidates, totalling 5 fits\n",
      "Training time: 26.37 seconds (0.44 minutes)\n"
     ]
    }
   ],
   "source": [
    "start_time = time.time()\n",
    "\n",
    "# Define GBM and parameters\n",
    "gbm = GradientBoostingClassifier(random_state=42)\n",
    "\n",
    "'''\n",
    "gbm_params = {\n",
    "    \"n_estimators\": [100, 200],\n",
    "    \"learning_rate\": [0.01, 0.1],\n",
    "    \"max_depth\": [3, 5],\n",
    "    \"min_samples_split\": [2, 5],\n",
    "    \"min_samples_leaf\": [1, 2, 5]\n",
    "}\n",
    "\n",
    "'''\n",
    "\n",
    "# Best Parameters (received after the training) \n",
    "gbm_params = {\n",
    "    \"n_estimators\": [200],\n",
    "    \"learning_rate\": [0.1],\n",
    "    \"max_depth\": [5],\n",
    "    \"min_samples_split\": [2],\n",
    "    \"min_samples_leaf\": [5]\n",
    "}\n",
    "\n",
    "# GridSearchCV\n",
    "gbm_grid = GridSearchCV(gbm, gbm_params, cv=5, n_jobs=-1, verbose=1)\n",
    "gbm_grid.fit(X_train, y_train)\n",
    "\n",
    "end_time = time.time()\n",
    "print(f\"Training time: {(end_time - start_time):.2f} seconds ({(end_time - start_time)/60:.2f} minutes)\")"
   ]
  },
  {
   "cell_type": "code",
   "execution_count": 5,
   "id": "063c9a38",
   "metadata": {},
   "outputs": [
    {
     "name": "stdout",
     "output_type": "stream",
     "text": [
      "Best parameters found by GridSearchCV:\n",
      "{'learning_rate': 0.1, 'max_depth': 5, 'min_samples_leaf': 5, 'min_samples_split': 2, 'n_estimators': 200}\n"
     ]
    }
   ],
   "source": [
    "print(\"Best parameters found by GridSearchCV:\")\n",
    "print(gbm_grid.best_params_)"
   ]
  },
  {
   "cell_type": "markdown",
   "id": "2b0989a0",
   "metadata": {},
   "source": [
    "## Save the Model"
   ]
  },
  {
   "cell_type": "code",
   "execution_count": 6,
   "id": "4659a09f",
   "metadata": {},
   "outputs": [
    {
     "name": "stdout",
     "output_type": "stream",
     "text": [
      "✅ GBM model saved as 'gbm_model.pkl'\n"
     ]
    }
   ],
   "source": [
    "# Save the best model\n",
    "joblib.dump(gbm_grid.best_estimator_, \"gbm_model.pkl\")\n",
    "print(\"✅ GBM model saved as 'gbm_model.pkl'\")"
   ]
  },
  {
   "cell_type": "markdown",
   "id": "34deacb7",
   "metadata": {},
   "source": [
    "## Load and Evaluate the Model"
   ]
  },
  {
   "cell_type": "markdown",
   "id": "169f28ee",
   "metadata": {},
   "source": [
    "In this section, I loaded the saved GBM model and evaluated its performance on the test set. The key steps were:\n",
    "\n",
    "#### 1. Loading the Saved Model\n",
    "- Used `joblib.load` to load the previously saved GBM model (`gbm_model.pkl`).\n",
    "\n",
    "#### 2. Making Predictions\n",
    "- Generated class predictions (`gbm_preds`) for the test set.\n",
    "- Also obtained the predicted probabilities (`gbm_probs`) for calculating probability-based metrics.\n",
    "\n",
    "#### 3. Evaluating the Model\n",
    "- Printed the best hyperparameters found during training.\n",
    "- Evaluated the model using various performance metrics:\n",
    "  - **Classification Report:** Displays precision, recall, f1-score, and support for each class.\n",
    "  - **Balanced Accuracy Score:** Accounts for imbalanced datasets by averaging recall across classes.\n",
    "  - **Accuracy Score:** Measures the overall correctness of predictions.\n",
    "  - **F1 Score:** Harmonic mean of precision and recall, useful when classes are imbalanced.\n",
    "  - **AUC-PR (Area Under the Precision-Recall Curve):** Measures the trade-off between precision and recall, especially important for imbalanced datasets.\n"
   ]
  },
  {
   "cell_type": "code",
   "execution_count": 7,
   "id": "a0314f6d",
   "metadata": {},
   "outputs": [
    {
     "name": "stdout",
     "output_type": "stream",
     "text": [
      "\n",
      "📌 GBM - Best Parameters: {'learning_rate': 0.1, 'max_depth': 5, 'min_samples_leaf': 5, 'min_samples_split': 2, 'n_estimators': 200}\n",
      "\n",
      "📊 Classification Report:\n",
      "               precision    recall  f1-score   support\n",
      "\n",
      "           0       0.90      0.94      0.92      7310\n",
      "           1       0.78      0.66      0.72      2295\n",
      "\n",
      "    accuracy                           0.88      9605\n",
      "   macro avg       0.84      0.80      0.82      9605\n",
      "weighted avg       0.87      0.88      0.87      9605\n",
      "\n",
      "✅ Balanced Accuracy Score: 0.8027942443127122\n",
      "✔️ Accuracy: 0.8756897449245185\n",
      "🎯 F1 Score: 0.7182633317602642\n",
      "📈 AUC-PR: 0.8332597534952035\n"
     ]
    }
   ],
   "source": [
    "# Load the saved model\n",
    "loaded_gbm = joblib.load(\"gbm_model.pkl\")\n",
    "gbm_preds = loaded_gbm.predict(X_test)\n",
    "gbm_probs = loaded_gbm.predict_proba(X_test)[:, 1]\n",
    "\n",
    "# Evaluate the loaded model\n",
    "print(\"\\n📌 GBM - Best Parameters:\", gbm_grid.best_params_)\n",
    "print(\"\\n📊 Classification Report:\\n\", classification_report(y_test, gbm_preds))\n",
    "print(\"✅ Balanced Accuracy Score:\", balanced_accuracy_score(y_test, gbm_preds))\n",
    "print(\"✔️ Accuracy:\", accuracy_score(y_test, gbm_preds))\n",
    "print(\"🎯 F1 Score:\", f1_score(y_test, gbm_preds))\n",
    "print(\"📈 AUC-PR:\", average_precision_score(y_test, gbm_probs))\n"
   ]
  },
  {
   "cell_type": "markdown",
   "id": "7c23330c",
   "metadata": {},
   "source": [
    "## Find Best Threshold Value with AUC-PR"
   ]
  },
  {
   "cell_type": "markdown",
   "id": "b618fc51",
   "metadata": {},
   "source": [
    "In this section, I analyzed the model's precision-recall performance and selected the best decision threshold to maximize the F1 score. The main steps were:\n",
    "\n",
    "#### 1. Calculate Precision, Recall, and Thresholds\n",
    "- Used `precision_recall_curve` to compute precision, recall, and threshold values based on the model's predicted probabilities.\n",
    "\n",
    "#### 2. Calculate AUC-PR\n",
    "- Computed the **Area Under the Precision-Recall Curve (AUC-PR)** using the `auc` function.\n",
    "\n",
    "#### 3. Find the Best Threshold\n",
    "- Calculated the F1 score at each threshold.\n",
    "- Identified the threshold that gave the **highest F1 score**, indicating the best balance between precision and recall.\n",
    "\n",
    "#### 4. Visualize the Precision-Recall Curve\n",
    "- Plotted the precision-recall curve.\n",
    "- Highlighted the point corresponding to the best threshold to visualize where the model performs best.\n",
    "\n",
    "#### 5. Apply the Best Threshold\n",
    "- Converted predicted probabilities into binary class predictions based on the best threshold.\n",
    "- Re-evaluated model performance using:\n",
    "  - **Classification Report** (precision, recall, F1-score)\n",
    "  - **Balanced Accuracy Score**\n",
    "  - **Accuracy**\n",
    "  - **F1 Score**\n",
    "\n",
    "Using a custom threshold (instead of the default 0.5) helps to better optimize model performance, especially in cases of class imbalance.\n"
   ]
  },
  {
   "cell_type": "code",
   "execution_count": 8,
   "id": "f8eb4e8f",
   "metadata": {},
   "outputs": [
    {
     "name": "stdout",
     "output_type": "stream",
     "text": [
      "📈 AUC-PR (using auc): 0.8332622014310535\n",
      "\n",
      "🔥 Best Threshold = 0.4574\n",
      "🎯 Best F1 Score = 0.7330\n"
     ]
    },
    {
     "data": {
      "image/png": "[encoded data removed]",
      "text/plain": [
       "<Figure size 576x432 with 1 Axes>"
      ]
     },
     "metadata": {
      "needs_background": "light"
     },
     "output_type": "display_data"
    },
    {
     "name": "stdout",
     "output_type": "stream",
     "text": [
      "\n",
      "📊 Classification Report:\n",
      "               precision    recall  f1-score   support\n",
      "\n",
      "           0       0.91      0.93      0.92      7310\n",
      "           1       0.77      0.70      0.73      2295\n",
      "\n",
      "    accuracy                           0.88      9605\n",
      "   macro avg       0.84      0.82      0.83      9605\n",
      "weighted avg       0.87      0.88      0.88      9605\n",
      "\n",
      "✅ Balanced Accuracy Score: 0.8177762577899377\n",
      "✔️ Accuracy: 0.87756376887038\n",
      "🎯 F1 Score: 0.7329700272479565\n"
     ]
    }
   ],
   "source": [
    "# Calculate precision, recall, thresholds\n",
    "precision, recall, thresholds = precision_recall_curve(y_test, gbm_probs)\n",
    "\n",
    "# Calculate AUC-PR\n",
    "auc_pr = auc(recall, precision)\n",
    "print(\"📈 AUC-PR (using auc):\", auc_pr)\n",
    "\n",
    "# Calculate F1 scores for each threshold (length of thresholds = len(precision) - 1)\n",
    "f1_scores = 2 * (precision[:-1] * recall[:-1]) / (precision[:-1] + recall[:-1])\n",
    "best_idx = np.argmax(f1_scores)\n",
    "best_threshold = thresholds[best_idx]\n",
    "best_f1 = f1_scores[best_idx]\n",
    "\n",
    "print(f\"\\n🔥 Best Threshold = {best_threshold:.4f}\")\n",
    "print(f\"🎯 Best F1 Score = {best_f1:.4f}\")\n",
    "\n",
    "# Plot PR Curve and mark best threshold\n",
    "plt.figure(figsize=(8, 6))\n",
    "plt.plot(recall, precision, label=f'AUC-PR = {auc_pr:.4f}')\n",
    "plt.scatter(recall[best_idx], precision[best_idx], color='red', label=f'Best Threshold = {best_threshold:.4f}')\n",
    "plt.xlabel('Recall')\n",
    "plt.ylabel('Precision')\n",
    "plt.title('Precision-Recall Curve')\n",
    "plt.legend(loc='lower left')\n",
    "plt.grid()\n",
    "plt.show()\n",
    "\n",
    "# Apply best threshold to get predicted class labels\n",
    "y_pred_best = (gbm_probs >= best_threshold).astype(int)\n",
    "\n",
    "# Print classification report using best threshold\n",
    "print(\"\\n📊 Classification Report:\\n\", classification_report(y_test, y_pred_best))\n",
    "print(\"✅ Balanced Accuracy Score:\", balanced_accuracy_score(y_test, y_pred_best))\n",
    "print(\"✔️ Accuracy:\", accuracy_score(y_test, y_pred_best))\n",
    "print(\"🎯 F1 Score:\", f1_score(y_test, y_pred_best))\n"
   ]
  },
  {
   "cell_type": "code",
   "execution_count": null,
   "id": "19cbf302",
   "metadata": {},
   "outputs": [],
   "source": []
  },
  {
   "cell_type": "code",
   "execution_count": null,
   "id": "39182b6d",
   "metadata": {},
   "outputs": [],
   "source": []
  }
 ],
 "metadata": {
  "kernelspec": {
   "display_name": "Python 3.9 (tensorflow)",
   "language": "python",
   "name": "tensorflow"
  },
  "language_info": {
   "codemirror_mode": {
    "name": "ipython",
    "version": 3
   },
   "file_extension": ".py",
   "mimetype": "text/x-python",
   "name": "python",
   "nbconvert_exporter": "python",
   "pygments_lexer": "ipython3",
   "version": "3.9.18"
  }
 },
 "nbformat": 4,
 "nbformat_minor": 5
}
