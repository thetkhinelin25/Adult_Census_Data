{
 "cells": [
  {
   "cell_type": "markdown",
   "id": "dcf5aa6a",
   "metadata": {},
   "source": [
    "# Models Evaluation"
   ]
  },
  {
   "cell_type": "markdown",
   "id": "819ed7d9",
   "metadata": {},
   "source": [
    "### 📘 Notebook Overview: Model Evaluation\n",
    "\n",
    "This notebook presents a comprehensive evaluation of multiple trained classification models on the Adult Census dataset. It focuses on comparing model performance across different threshold settings using common classification metrics. The following steps are included:\n",
    "\n",
    "---\n",
    "\n",
    "### ▪️ Importing Required Packages  \n",
    "Essential Python libraries for model loading, preprocessing, evaluation metrics, and visualization are imported to support the evaluation of multiple trained models.\n",
    "\n",
    "### ▪️ Load Models  \n",
    "Pre-trained models, including GBM, AdaBoost, Random Forest, and ANN, are loaded from saved files for evaluation.\n",
    "\n",
    "### ▪️ Preprocess the Data  \n",
    "The test data is preprocessed using the same steps applied during training to ensure consistency in model input formatting.\n",
    "\n",
    "### ▪️ Models' Evaluations for GBM, Adaboost, Random Forest, ANN  \n",
    "Each model is evaluated using two threshold strategies:\n",
    "- **With default threshold (0.5):** Accuracy, Recall, and F1-Score are computed using the standard classification threshold.\n",
    "- **With optimized threshold (from AUC-PR):** Thresholds are adjusted based on the precision-recall curve to improve the model’s performance, especially on the minority class (`>50K`).\n",
    "\n",
    "### ▪️ Evaluation Table  \n",
    "All evaluation results are summarized in a comparison table for easy interpretation.\n",
    "\n",
    "### ▪️Model Evaluation and Best Model Selection\n",
    "Explain why we chose the specific model and how we chose it.\n",
    "\n",
    "---\n"
   ]
  },
  {
   "cell_type": "markdown",
   "id": "90ee3a92",
   "metadata": {},
   "source": [
    "## Importing Required Packages"
   ]
  },
  {
   "cell_type": "code",
   "execution_count": 1,
   "id": "48db92f4",
   "metadata": {},
   "outputs": [],
   "source": [
    "import pandas as pd\n",
    "import numpy as np\n",
    "import matplotlib.pyplot as plt\n",
    "import joblib\n",
    "import tensorflow as tf\n",
    "from tensorflow.keras.models import load_model\n",
    "from tensorflow.keras.utils import to_categorical\n",
    "from sklearn.preprocessing import StandardScaler, LabelEncoder \n",
    "from tensorflow.keras.models import load_model\n",
    "from sklearn.metrics import (\n",
    "    classification_report, \n",
    "    accuracy_score,\n",
    "    balanced_accuracy_score,\n",
    "    precision_recall_curve,\n",
    "    average_precision_score,\n",
    "    auc,\n",
    "    f1_score,\n",
    "    classification_report\n",
    ")"
   ]
  },
  {
   "cell_type": "markdown",
   "id": "095a93ac",
   "metadata": {},
   "source": [
    "## Load Models"
   ]
  },
  {
   "cell_type": "code",
   "execution_count": 2,
   "id": "979a9e8d",
   "metadata": {},
   "outputs": [],
   "source": [
    "# GBM\n",
    "gbm = joblib.load(\"gbm_model.pkl\")\n",
    "\n",
    "#AdaBoost\n",
    "adaboost = joblib.load(\"adaboost_model.pkl\")\n",
    "\n",
    "# RF\n",
    "rf = joblib.load(\"random_forest_model.pkl\")\n",
    "\n",
    "# ANN\n",
    "ann = load_model(\"ann_model.h5\")"
   ]
  },
  {
   "cell_type": "markdown",
   "id": "223528c6",
   "metadata": {},
   "source": [
    "## Preprocess the Data"
   ]
  },
  {
   "cell_type": "code",
   "execution_count": 3,
   "id": "b49c2faf",
   "metadata": {},
   "outputs": [],
   "source": [
    "# Load datasets\n",
    "train_df = pd.read_csv(\"adult_combined_train_80_imputed_feature_selected.csv\")\n",
    "test_df = pd.read_csv(\"adult_combined_test_20_imputed_feature_selected.csv\")\n",
    "\n",
    "# Encode target variable with LabelEncoder\n",
    "label_enc = LabelEncoder()\n",
    "train_df[\"income\"] = label_enc.fit_transform(train_df[\"income\"])\n",
    "test_df[\"income\"] = label_enc.transform(test_df[\"income\"])\n",
    "\n",
    "# Identify numeric and categorical features\n",
    "numeric_cols = train_df.select_dtypes(include=[\"int64\", \"float64\"]).drop(\"income\", axis=1).columns\n",
    "categorical_cols = train_df.select_dtypes(include=[\"object\"]).columns\n",
    "\n",
    "# One-Hot Encode categorical features\n",
    "train_df = pd.get_dummies(train_df, columns=categorical_cols)\n",
    "test_df = pd.get_dummies(test_df, columns=categorical_cols)\n",
    "\n",
    "# Align test set columns with train set\n",
    "test_df = test_df.reindex(columns=train_df.columns, fill_value=0)\n",
    "\n",
    "# Separate features and labels\n",
    "X_train = train_df.drop(\"income\", axis=1)\n",
    "y_train = train_df[\"income\"]\n",
    "X_test = test_df.drop(\"income\", axis=1)\n",
    "y_test = test_df[\"income\"]\n",
    "\n",
    "# Apply StandardScaler to numeric columns\n",
    "scaler = StandardScaler()\n",
    "X_train[numeric_cols] = scaler.fit_transform(X_train[numeric_cols])\n",
    "X_test[numeric_cols] = scaler.transform(X_test[numeric_cols])"
   ]
  },
  {
   "cell_type": "markdown",
   "id": "9bf7cd97",
   "metadata": {},
   "source": [
    "## Models' Evaluations"
   ]
  },
  {
   "cell_type": "markdown",
   "id": "8cab3f8d",
   "metadata": {},
   "source": [
    "## GBM"
   ]
  },
  {
   "cell_type": "markdown",
   "id": "ad9cb002",
   "metadata": {},
   "source": [
    "### 0.5 Threshold"
   ]
  },
  {
   "cell_type": "code",
   "execution_count": 4,
   "id": "97ec7729",
   "metadata": {
    "scrolled": true
   },
   "outputs": [
    {
     "name": "stdout",
     "output_type": "stream",
     "text": [
      "\n",
      "📊 Classification Report with 0.5 threshold:\n",
      "               precision    recall  f1-score   support\n",
      "\n",
      "           0       0.90      0.94      0.92      7310\n",
      "           1       0.78      0.66      0.72      2295\n",
      "\n",
      "    accuracy                           0.88      9605\n",
      "   macro avg       0.84      0.80      0.82      9605\n",
      "weighted avg       0.87      0.88      0.87      9605\n",
      "\n",
      "✔️ Accuracy: 0.8756897449245185\n",
      "✅ Balanced Accuracy Score: 0.8027942443127122\n",
      "🎯 F1 Score: 0.7182633317602642\n",
      "📈 AUC-PR: 0.8332597534952035\n"
     ]
    }
   ],
   "source": [
    "gbm_preds = gbm.predict(X_test)\n",
    "gbm_probs = gbm.predict_proba(X_test)[:, 1]\n",
    "\n",
    "# Evaluate the loaded model\n",
    "print(\"\\n📊 Classification Report with 0.5 threshold:\\n\", classification_report(y_test, gbm_preds))\n",
    "print(\"✔️ Accuracy:\", accuracy_score(y_test, gbm_preds))\n",
    "print(\"✅ Balanced Accuracy Score:\", balanced_accuracy_score(y_test, gbm_preds))\n",
    "print(\"🎯 F1 Score:\", f1_score(y_test, gbm_preds))\n",
    "print(\"📈 AUC-PR:\", average_precision_score(y_test, gbm_probs))"
   ]
  },
  {
   "cell_type": "markdown",
   "id": "d8bfa5c7",
   "metadata": {},
   "source": [
    "### Best Threshold"
   ]
  },
  {
   "cell_type": "code",
   "execution_count": 5,
   "id": "4ef6fd0d",
   "metadata": {},
   "outputs": [
    {
     "name": "stdout",
     "output_type": "stream",
     "text": [
      "📈 AUC-PR (using auc): 0.8332622014310535\n",
      "📌 Average Precision Score: 0.8332597534952035\n",
      "\n",
      "🔥 Best Threshold = 0.4574\n",
      "🎯 Best F1 Score = 0.7330\n"
     ]
    },
    {
     "data": {
      "image/png": "[encoded data removed]",
      "text/plain": [
       "<Figure size 576x432 with 1 Axes>"
      ]
     },
     "metadata": {
      "needs_background": "light"
     },
     "output_type": "display_data"
    },
    {
     "name": "stdout",
     "output_type": "stream",
     "text": [
      "\n",
      "📊 Classification Report with best threshold:\n",
      "               precision    recall  f1-score   support\n",
      "\n",
      "           0       0.91      0.93      0.92      7310\n",
      "           1       0.77      0.70      0.73      2295\n",
      "\n",
      "    accuracy                           0.88      9605\n",
      "   macro avg       0.84      0.82      0.83      9605\n",
      "weighted avg       0.87      0.88      0.88      9605\n",
      "\n",
      "✅ Balanced Accuracy Score: 0.8177762577899377\n",
      "✔️ Accuracy: 0.87756376887038\n",
      "🎯 F1 Score: 0.7329700272479565\n"
     ]
    }
   ],
   "source": [
    "# Calculate precision, recall, thresholds\n",
    "precision, recall, thresholds = precision_recall_curve(y_test, gbm_probs)\n",
    "\n",
    "# Calculate AUC-PR and Average Precision\n",
    "auc_pr = auc(recall, precision)\n",
    "avg_precision = average_precision_score(y_test, gbm_probs)\n",
    "\n",
    "print(\"📈 AUC-PR (using auc):\", auc_pr)\n",
    "print(\"📌 Average Precision Score:\", avg_precision)\n",
    "\n",
    "# Calculate F1 scores for each threshold (length of thresholds = len(precision) - 1)\n",
    "f1_scores = 2 * (precision[:-1] * recall[:-1]) / (precision[:-1] + recall[:-1])\n",
    "best_idx = np.argmax(f1_scores)\n",
    "best_threshold = thresholds[best_idx]\n",
    "best_f1 = f1_scores[best_idx]\n",
    "\n",
    "print(f\"\\n🔥 Best Threshold = {best_threshold:.4f}\")\n",
    "print(f\"🎯 Best F1 Score = {best_f1:.4f}\")\n",
    "\n",
    "# 4. Plot PR Curve and mark best threshold\n",
    "plt.figure(figsize=(8, 6))\n",
    "plt.plot(recall, precision, label=f'AUC-PR = {auc_pr:.4f}')\n",
    "plt.scatter(recall[best_idx], precision[best_idx], color='red', label=f'Best Threshold = {best_threshold:.4f}')\n",
    "plt.xlabel('Recall')\n",
    "plt.ylabel('Precision')\n",
    "plt.title('Precision-Recall Curve')\n",
    "plt.legend(loc='lower left')\n",
    "plt.grid()\n",
    "plt.show()\n",
    "\n",
    "# 5. Apply best threshold to get predicted class labels\n",
    "y_pred_best_gbm = (gbm_probs >= best_threshold).astype(int)\n",
    "\n",
    "# 6. Print classification report using best threshold\n",
    "print(\"\\n📊 Classification Report with best threshold:\\n\", classification_report(y_test, y_pred_best_gbm))\n",
    "print(\"✅ Balanced Accuracy Score:\", balanced_accuracy_score(y_test, y_pred_best_gbm))\n",
    "print(\"✔️ Accuracy:\", accuracy_score(y_test, y_pred_best_gbm))\n",
    "print(\"🎯 F1 Score:\", f1_score(y_test, y_pred_best_gbm))"
   ]
  },
  {
   "cell_type": "markdown",
   "id": "4ddf2b4b",
   "metadata": {},
   "source": [
    "## Adaboost"
   ]
  },
  {
   "cell_type": "markdown",
   "id": "b9a69042",
   "metadata": {},
   "source": [
    "### 0.5 Threshold"
   ]
  },
  {
   "cell_type": "code",
   "execution_count": 6,
   "id": "b4a697c0",
   "metadata": {},
   "outputs": [
    {
     "name": "stdout",
     "output_type": "stream",
     "text": [
      "\n",
      "📊 Classification Report with 0.5 threshold:\n",
      "               precision    recall  f1-score   support\n",
      "\n",
      "           0       0.89      0.94      0.92      7310\n",
      "           1       0.78      0.63      0.70      2295\n",
      "\n",
      "    accuracy                           0.87      9605\n",
      "   macro avg       0.83      0.79      0.81      9605\n",
      "weighted avg       0.86      0.87      0.86      9605\n",
      "\n",
      "✔️ Accuracy: 0.8687142113482561\n",
      "✅ Balanced Accuracy Score: 0.786104777828444\n",
      "🎯 F1 Score: 0.6956311851315472\n",
      "📈 AUC-PR: 0.8176169458773723\n"
     ]
    }
   ],
   "source": [
    "ab_preds = adaboost.predict(X_test)\n",
    "ab_probs = adaboost.predict_proba(X_test)[:, 1]\n",
    "\n",
    "print(\"\\n📊 Classification Report with 0.5 threshold:\\n\", classification_report(y_test, ab_preds))\n",
    "print(\"✔️ Accuracy:\", accuracy_score(y_test, ab_preds))\n",
    "print(\"✅ Balanced Accuracy Score:\", balanced_accuracy_score(y_test, ab_preds))\n",
    "print(\"🎯 F1 Score:\", f1_score(y_test, ab_preds))\n",
    "print(\"📈 AUC-PR:\", average_precision_score(y_test, ab_probs))"
   ]
  },
  {
   "cell_type": "markdown",
   "id": "7eb65475",
   "metadata": {},
   "source": [
    "### Best Threshold"
   ]
  },
  {
   "cell_type": "code",
   "execution_count": 7,
   "id": "09862fd9",
   "metadata": {},
   "outputs": [
    {
     "name": "stdout",
     "output_type": "stream",
     "text": [
      "📈 AUC-PR (using auc): 0.8177428195779405\n",
      "📌 Average Precision Score: 0.8176169458773723\n",
      "\n",
      "🔥 Best Threshold = 0.4994\n",
      "🎯 Best F1 Score = 0.7193\n"
     ]
    },
    {
     "data": {
      "image/png": "[encoded data removed]",
      "text/plain": [
       "<Figure size 576x432 with 1 Axes>"
      ]
     },
     "metadata": {
      "needs_background": "light"
     },
     "output_type": "display_data"
    },
    {
     "name": "stdout",
     "output_type": "stream",
     "text": [
      "\n",
      "📊 Classification Report with best threshold:\n",
      "               precision    recall  f1-score   support\n",
      "\n",
      "           0       0.92      0.90      0.91      7310\n",
      "           1       0.70      0.74      0.72      2295\n",
      "\n",
      "    accuracy                           0.86      9605\n",
      "   macro avg       0.81      0.82      0.81      9605\n",
      "weighted avg       0.87      0.86      0.86      9605\n",
      "\n",
      "✅ Balanced Accuracy Score: 0.8194355778487106\n",
      "✔️ Accuracy: 0.8625715773034878\n",
      "🎯 F1 Score: 0.7192683964270523\n"
     ]
    }
   ],
   "source": [
    "# 1. Calculate precision, recall, thresholds\n",
    "precision, recall, thresholds = precision_recall_curve(y_test, ab_probs)\n",
    "\n",
    "# 2. Calculate AUC-PR and Average Precision\n",
    "auc_pr = auc(recall, precision)\n",
    "avg_precision = average_precision_score(y_test, ab_probs)\n",
    "\n",
    "print(\"📈 AUC-PR (using auc):\", auc_pr)\n",
    "print(\"📌 Average Precision Score:\", avg_precision)\n",
    "\n",
    "# 3. Calculate F1 scores for each threshold (length of thresholds = len(precision) - 1)\n",
    "f1_scores = 2 * (precision[:-1] * recall[:-1]) / (precision[:-1] + recall[:-1])\n",
    "best_idx = np.argmax(f1_scores)\n",
    "best_threshold = thresholds[best_idx]\n",
    "best_f1 = f1_scores[best_idx]\n",
    "\n",
    "print(f\"\\n🔥 Best Threshold = {best_threshold:.4f}\")\n",
    "print(f\"🎯 Best F1 Score = {best_f1:.4f}\")\n",
    "\n",
    "# 4. Plot PR Curve and mark best threshold\n",
    "plt.figure(figsize=(8, 6))\n",
    "plt.plot(recall, precision, label=f'AUC-PR = {auc_pr:.4f}')\n",
    "plt.scatter(recall[best_idx], precision[best_idx], color='red', label=f'Best Threshold = {best_threshold:.4f}')\n",
    "plt.xlabel('Recall')\n",
    "plt.ylabel('Precision')\n",
    "plt.title('Precision-Recall Curve')\n",
    "plt.legend(loc='lower left')\n",
    "plt.grid()\n",
    "plt.show()\n",
    "\n",
    "# 5. Apply best threshold to get predicted class labels\n",
    "y_pred_best_ab = (ab_probs >= best_threshold).astype(int)\n",
    "\n",
    "# 6. Print classification report using best threshold\n",
    "print(\"\\n📊 Classification Report with best threshold:\\n\", classification_report(y_test, y_pred_best_ab))\n",
    "print(\"✅ Balanced Accuracy Score:\", balanced_accuracy_score(y_test, y_pred_best_ab))\n",
    "print(\"✔️ Accuracy:\", accuracy_score(y_test, y_pred_best_ab))\n",
    "print(\"🎯 F1 Score:\", f1_score(y_test, y_pred_best_ab))"
   ]
  },
  {
   "cell_type": "markdown",
   "id": "dd794f4b",
   "metadata": {},
   "source": [
    "## Random Forest"
   ]
  },
  {
   "cell_type": "markdown",
   "id": "4fc9bbb0",
   "metadata": {},
   "source": [
    "### 0.5 Threshold"
   ]
  },
  {
   "cell_type": "code",
   "execution_count": 8,
   "id": "7d4be914",
   "metadata": {},
   "outputs": [
    {
     "name": "stdout",
     "output_type": "stream",
     "text": [
      "\n",
      "📊 Classification Report with 0.5 threshold:\n",
      "               precision    recall  f1-score   support\n",
      "\n",
      "           0       0.89      0.94      0.91      7310\n",
      "           1       0.78      0.62      0.69      2295\n",
      "\n",
      "    accuracy                           0.87      9605\n",
      "   macro avg       0.83      0.78      0.80      9605\n",
      "weighted avg       0.86      0.87      0.86      9605\n",
      "\n",
      "✔️ Accuracy: 0.8665278500780843\n",
      "✅ Balanced Accuracy Score: 0.7825758727263515\n",
      "🎯 F1 Score: 0.6900386847195358\n",
      "📈 AUC-PR: 0.8045256025112938\n"
     ]
    }
   ],
   "source": [
    "rf_preds = rf.predict(X_test)\n",
    "rf_probs = rf.predict_proba(X_test)[:, 1]\n",
    "\n",
    "print(\"\\n📊 Classification Report with 0.5 threshold:\\n\", classification_report(y_test, rf_preds))\n",
    "print(\"✔️ Accuracy:\", accuracy_score(y_test, rf_preds))\n",
    "print(\"✅ Balanced Accuracy Score:\", balanced_accuracy_score(y_test, rf_preds))\n",
    "print(\"🎯 F1 Score:\", f1_score(y_test, rf_preds))\n",
    "print(\"📈 AUC-PR:\", average_precision_score(y_test, rf_probs))"
   ]
  },
  {
   "cell_type": "markdown",
   "id": "1e36d009",
   "metadata": {},
   "source": [
    "### Best Threshold"
   ]
  },
  {
   "cell_type": "code",
   "execution_count": 9,
   "id": "0db2c840",
   "metadata": {},
   "outputs": [
    {
     "name": "stdout",
     "output_type": "stream",
     "text": [
      "📈 AUC-PR (using auc): 0.8044932169064667\n",
      "📌 Average Precision Score: 0.8045256025112938\n",
      "\n",
      "🔥 Best Threshold = 0.4056\n",
      "🎯 Best F1 Score = 0.7093\n"
     ]
    },
    {
     "data": {
      "image/png": "[encoded data removed]",
      "text/plain": [
       "<Figure size 576x432 with 1 Axes>"
      ]
     },
     "metadata": {
      "needs_background": "light"
     },
     "output_type": "display_data"
    },
    {
     "name": "stdout",
     "output_type": "stream",
     "text": [
      "\n",
      "📊 Classification Report with best threshold:\n",
      "               precision    recall  f1-score   support\n",
      "\n",
      "           0       0.91      0.91      0.91      7310\n",
      "           1       0.70      0.72      0.71      2295\n",
      "\n",
      "    accuracy                           0.86      9605\n",
      "   macro avg       0.81      0.81      0.81      9605\n",
      "weighted avg       0.86      0.86      0.86      9605\n",
      "\n",
      "✅ Balanced Accuracy Score: 0.8102523179814561\n",
      "✔️ Accuracy: 0.859968766267569\n",
      "🎯 F1 Score: 0.7093148908580074\n"
     ]
    }
   ],
   "source": [
    "# 1. Calculate precision, recall, thresholds\n",
    "precision, recall, thresholds = precision_recall_curve(y_test, rf_probs)\n",
    "\n",
    "# 2. Calculate AUC-PR and Average Precision\n",
    "auc_pr = auc(recall, precision)\n",
    "avg_precision = average_precision_score(y_test, rf_probs)\n",
    "\n",
    "print(\"📈 AUC-PR (using auc):\", auc_pr)\n",
    "print(\"📌 Average Precision Score:\", avg_precision)\n",
    "\n",
    "# 3. Calculate F1 scores for each threshold (length of thresholds = len(precision) - 1)\n",
    "f1_scores = 2 * (precision[:-1] * recall[:-1]) / (precision[:-1] + recall[:-1])\n",
    "best_idx = np.argmax(f1_scores)\n",
    "best_threshold = thresholds[best_idx]\n",
    "best_f1 = f1_scores[best_idx]\n",
    "\n",
    "print(f\"\\n🔥 Best Threshold = {best_threshold:.4f}\")\n",
    "print(f\"🎯 Best F1 Score = {best_f1:.4f}\")\n",
    "\n",
    "# 4. Plot PR Curve and mark best threshold\n",
    "plt.figure(figsize=(8, 6))\n",
    "plt.plot(recall, precision, label=f'AUC-PR = {auc_pr:.4f}')\n",
    "plt.scatter(recall[best_idx], precision[best_idx], color='red', label=f'Best Threshold = {best_threshold:.4f}')\n",
    "plt.xlabel('Recall')\n",
    "plt.ylabel('Precision')\n",
    "plt.title('Precision-Recall Curve')\n",
    "plt.legend(loc='lower left')\n",
    "plt.grid()\n",
    "plt.show()\n",
    "\n",
    "# 5. Apply best threshold to get predicted class labels\n",
    "y_pred_best_rf = (rf_probs >= best_threshold).astype(int)\n",
    "\n",
    "# 6. Print classification report using best threshold\n",
    "print(\"\\n📊 Classification Report with best threshold:\\n\", classification_report(y_test, y_pred_best_rf))\n",
    "print(\"✅ Balanced Accuracy Score:\", balanced_accuracy_score(y_test, y_pred_best_rf))\n",
    "print(\"✔️ Accuracy:\", accuracy_score(y_test, y_pred_best_rf))\n",
    "print(\"🎯 F1 Score:\", f1_score(y_test, y_pred_best_rf))"
   ]
  },
  {
   "cell_type": "markdown",
   "id": "ed1a1361",
   "metadata": {},
   "source": [
    "## ANN"
   ]
  },
  {
   "cell_type": "markdown",
   "id": "01eea4d5",
   "metadata": {},
   "source": [
    "### 0.5 Threshold"
   ]
  },
  {
   "cell_type": "code",
   "execution_count": 10,
   "id": "fa00a208",
   "metadata": {},
   "outputs": [
    {
     "name": "stdout",
     "output_type": "stream",
     "text": [
      "301/301 [==============================] - 0s 586us/step\n",
      "\n",
      "📊 Classification Report with 0.5 threshold:\n",
      "               precision    recall  f1-score   support\n",
      "\n",
      "       <=50K       0.89      0.93      0.91      7310\n",
      "        >50K       0.74      0.64      0.68      2295\n",
      "\n",
      "    accuracy                           0.86      9605\n",
      "   macro avg       0.81      0.78      0.80      9605\n",
      "weighted avg       0.85      0.86      0.86      9605\n",
      "\n",
      "✔️ Accuracy: 0.8589276418532015\n",
      "✅ Balanced Accuracy Score: 0.7834118660384051\n",
      "🎯 F1 Score: 0.6839281548868673\n",
      "📈 AUC-PR: 0.7796532034101312\n"
     ]
    }
   ],
   "source": [
    "# Convert to NumPy arrays with correct dtypes for TensorFlow\n",
    "X_train = X_train.to_numpy().astype(np.float32)\n",
    "X_test = X_test.to_numpy().astype(np.float32)\n",
    "\n",
    "y_train = y_train.to_numpy().astype(np.float32)  # or np.int32 depending on your model output\n",
    "y_test = y_test.to_numpy().astype(np.float32)\n",
    "\n",
    "ann_probs = ann.predict(X_test).flatten()\n",
    "ann_preds = (ann_probs > 0.5).astype(int)\n",
    "\n",
    "# 9. Print results\n",
    "print(\"\\n📊 Classification Report with 0.5 threshold:\\n\", classification_report(y_test, ann_preds, target_names=label_enc.classes_))\n",
    "print(\"✔️ Accuracy:\", accuracy_score(y_test, ann_preds))\n",
    "print(\"✅ Balanced Accuracy Score:\", balanced_accuracy_score(y_test, ann_preds))\n",
    "print(\"🎯 F1 Score:\", f1_score(y_test, ann_preds))\n",
    "print(\"📈 AUC-PR:\", average_precision_score(y_test, ann_probs))"
   ]
  },
  {
   "cell_type": "markdown",
   "id": "881e96a6",
   "metadata": {},
   "source": [
    "### Best Threshold"
   ]
  },
  {
   "cell_type": "code",
   "execution_count": 11,
   "id": "3d86998a",
   "metadata": {},
   "outputs": [
    {
     "name": "stdout",
     "output_type": "stream",
     "text": [
      "📈 AUC-PR (using auc): 0.7796006603164347\n",
      "📌 Average Precision Score: 0.7796532034101312\n",
      "\n",
      "🔥 Best Threshold = 0.3835\n",
      "🎯 Best F1 Score = 0.7034\n"
     ]
    },
    {
     "data": {
      "image/png": "[encoded data removed]",
      "text/plain": [
       "<Figure size 576x432 with 1 Axes>"
      ]
     },
     "metadata": {
      "needs_background": "light"
     },
     "output_type": "display_data"
    },
    {
     "name": "stdout",
     "output_type": "stream",
     "text": [
      "\n",
      "📊 Classification Report with best threshold:\n",
      "               precision    recall  f1-score   support\n",
      "\n",
      "         0.0       0.92      0.88      0.90      7310\n",
      "         1.0       0.66      0.75      0.70      2295\n",
      "\n",
      "    accuracy                           0.85      9605\n",
      "   macro avg       0.79      0.81      0.80      9605\n",
      "weighted avg       0.86      0.85      0.85      9605\n",
      "\n",
      "✅ Balanced Accuracy Score: 0.8145665501342656\n",
      "✔️ Accuracy: 0.8492451847995836\n",
      "🎯 F1 Score: 0.7034002458009013\n"
     ]
    }
   ],
   "source": [
    "# 1. Calculate precision, recall, thresholds\n",
    "precision, recall, thresholds = precision_recall_curve(y_test, ann_probs)\n",
    "\n",
    "# 2. Calculate AUC-PR and Average Precision\n",
    "auc_pr = auc(recall, precision)\n",
    "avg_precision = average_precision_score(y_test, ann_probs)\n",
    "\n",
    "print(\"📈 AUC-PR (using auc):\", auc_pr)\n",
    "print(\"📌 Average Precision Score:\", avg_precision)\n",
    "\n",
    "# 3. Calculate F1 scores for each threshold (length of thresholds = len(precision) - 1)\n",
    "f1_scores = 2 * (precision[:-1] * recall[:-1]) / (precision[:-1] + recall[:-1])\n",
    "best_idx = np.argmax(f1_scores)\n",
    "best_threshold = thresholds[best_idx]\n",
    "best_f1 = f1_scores[best_idx]\n",
    "\n",
    "print(f\"\\n🔥 Best Threshold = {best_threshold:.4f}\")\n",
    "print(f\"🎯 Best F1 Score = {best_f1:.4f}\")\n",
    "\n",
    "# 4. Plot PR Curve and mark best threshold\n",
    "plt.figure(figsize=(8, 6))\n",
    "plt.plot(recall, precision, label=f'AUC-PR = {auc_pr:.4f}')\n",
    "plt.scatter(recall[best_idx], precision[best_idx], color='red', label=f'Best Threshold = {best_threshold:.4f}')\n",
    "plt.xlabel('Recall')\n",
    "plt.ylabel('Precision')\n",
    "plt.title('Precision-Recall Curve')\n",
    "plt.legend(loc='lower left')\n",
    "plt.grid()\n",
    "plt.show()\n",
    "\n",
    "# 5. Apply best threshold to get predicted class labels\n",
    "y_pred_best_ann = (ann_probs >= best_threshold).astype(int)\n",
    "\n",
    "# 6. Print classification report using best threshold\n",
    "print(\"\\n📊 Classification Report with best threshold:\\n\", classification_report(y_test, y_pred_best_ann))\n",
    "print(\"✅ Balanced Accuracy Score:\", balanced_accuracy_score(y_test, y_pred_best_ann))\n",
    "print(\"✔️ Accuracy:\", accuracy_score(y_test, y_pred_best_ann))\n",
    "print(\"🎯 F1 Score:\", f1_score(y_test, y_pred_best_ann))"
   ]
  },
  {
   "cell_type": "markdown",
   "id": "9dca2d4b",
   "metadata": {},
   "source": [
    "## Evaluation Table for 0.5 Threshold"
   ]
  },
  {
   "cell_type": "code",
   "execution_count": 12,
   "id": "eb0690f9",
   "metadata": {},
   "outputs": [
    {
     "name": "stdout",
     "output_type": "stream",
     "text": [
      "\n",
      "📋 Model Evaluation Summary for 0.5 threshold:\n",
      "\n"
     ]
    },
    {
     "data": {
      "text/html": [
       "<div>\n",
       "<style scoped>\n",
       "    .dataframe tbody tr th:only-of-type {\n",
       "        vertical-align: middle;\n",
       "    }\n",
       "\n",
       "    .dataframe tbody tr th {\n",
       "        vertical-align: top;\n",
       "    }\n",
       "\n",
       "    .dataframe thead th {\n",
       "        text-align: right;\n",
       "    }\n",
       "</style>\n",
       "<table border=\"1\" class=\"dataframe\">\n",
       "  <thead>\n",
       "    <tr style=\"text-align: right;\">\n",
       "      <th></th>\n",
       "      <th>Model</th>\n",
       "      <th>Accuracy</th>\n",
       "      <th>Balanced Accuracy</th>\n",
       "      <th>F1 Score</th>\n",
       "      <th>AUC-PR</th>\n",
       "    </tr>\n",
       "  </thead>\n",
       "  <tbody>\n",
       "    <tr>\n",
       "      <th>0</th>\n",
       "      <td>GBM</td>\n",
       "      <td>0.8757</td>\n",
       "      <td>0.8028</td>\n",
       "      <td>0.7183</td>\n",
       "      <td>0.8333</td>\n",
       "    </tr>\n",
       "    <tr>\n",
       "      <th>1</th>\n",
       "      <td>AdaBoost</td>\n",
       "      <td>0.8687</td>\n",
       "      <td>0.7861</td>\n",
       "      <td>0.6956</td>\n",
       "      <td>0.8176</td>\n",
       "    </tr>\n",
       "    <tr>\n",
       "      <th>2</th>\n",
       "      <td>Random Forest</td>\n",
       "      <td>0.8665</td>\n",
       "      <td>0.7826</td>\n",
       "      <td>0.6900</td>\n",
       "      <td>0.8045</td>\n",
       "    </tr>\n",
       "    <tr>\n",
       "      <th>3</th>\n",
       "      <td>ANN</td>\n",
       "      <td>0.8589</td>\n",
       "      <td>0.7834</td>\n",
       "      <td>0.6839</td>\n",
       "      <td>0.7797</td>\n",
       "    </tr>\n",
       "  </tbody>\n",
       "</table>\n",
       "</div>"
      ],
      "text/plain": [
       "           Model  Accuracy  Balanced Accuracy  F1 Score  AUC-PR\n",
       "0            GBM    0.8757             0.8028    0.7183  0.8333\n",
       "1       AdaBoost    0.8687             0.7861    0.6956  0.8176\n",
       "2  Random Forest    0.8665             0.7826    0.6900  0.8045\n",
       "3            ANN    0.8589             0.7834    0.6839  0.7797"
      ]
     },
     "execution_count": 12,
     "metadata": {},
     "output_type": "execute_result"
    }
   ],
   "source": [
    "# Dictionary to collect all results\n",
    "metrics_summary = {\n",
    "    \"Model\": [],\n",
    "    \"Accuracy\": [],\n",
    "    \"Balanced Accuracy\": [],\n",
    "    \"F1 Score\": [],\n",
    "    \"AUC-PR\": []\n",
    "}\n",
    "\n",
    "# Add metrics for each model\n",
    "models = {\n",
    "    \"GBM\": (gbm_preds, gbm_probs),\n",
    "    \"AdaBoost\": (ab_preds, ab_probs),\n",
    "    \"Random Forest\": (rf_preds, rf_probs),\n",
    "    \"ANN\": (ann_preds, ann_probs)\n",
    "}\n",
    "\n",
    "for model_name, (preds, probs) in models.items():\n",
    "    metrics_summary[\"Model\"].append(model_name)\n",
    "    metrics_summary[\"Accuracy\"].append(accuracy_score(y_test, preds))\n",
    "    metrics_summary[\"Balanced Accuracy\"].append(balanced_accuracy_score(y_test, preds))\n",
    "    metrics_summary[\"F1 Score\"].append(f1_score(y_test, preds))\n",
    "    metrics_summary[\"AUC-PR\"].append(average_precision_score(y_test, probs))\n",
    "\n",
    "# Convert to DataFrame\n",
    "metrics_df = pd.DataFrame(metrics_summary)\n",
    "\n",
    "# Display the summary\n",
    "print(\"\\n📋 Model Evaluation Summary for 0.5 threshold:\\n\")\n",
    "metrics_df.round(4)\n"
   ]
  },
  {
   "cell_type": "markdown",
   "id": "254e1abb",
   "metadata": {},
   "source": [
    "## Evaluation Table for Best Thresholds"
   ]
  },
  {
   "cell_type": "code",
   "execution_count": 13,
   "id": "86570f62",
   "metadata": {},
   "outputs": [
    {
     "name": "stdout",
     "output_type": "stream",
     "text": [
      "\n",
      "📋 Model Evaluation Summary for best threshold:\n",
      "\n"
     ]
    },
    {
     "data": {
      "text/html": [
       "<div>\n",
       "<style scoped>\n",
       "    .dataframe tbody tr th:only-of-type {\n",
       "        vertical-align: middle;\n",
       "    }\n",
       "\n",
       "    .dataframe tbody tr th {\n",
       "        vertical-align: top;\n",
       "    }\n",
       "\n",
       "    .dataframe thead th {\n",
       "        text-align: right;\n",
       "    }\n",
       "</style>\n",
       "<table border=\"1\" class=\"dataframe\">\n",
       "  <thead>\n",
       "    <tr style=\"text-align: right;\">\n",
       "      <th></th>\n",
       "      <th>Model</th>\n",
       "      <th>Accuracy</th>\n",
       "      <th>Balanced Accuracy</th>\n",
       "      <th>F1 Score</th>\n",
       "      <th>AUC-PR</th>\n",
       "    </tr>\n",
       "  </thead>\n",
       "  <tbody>\n",
       "    <tr>\n",
       "      <th>0</th>\n",
       "      <td>GBM</td>\n",
       "      <td>0.8776</td>\n",
       "      <td>0.8178</td>\n",
       "      <td>0.7330</td>\n",
       "      <td>0.8333</td>\n",
       "    </tr>\n",
       "    <tr>\n",
       "      <th>1</th>\n",
       "      <td>AdaBoost</td>\n",
       "      <td>0.8626</td>\n",
       "      <td>0.8194</td>\n",
       "      <td>0.7193</td>\n",
       "      <td>0.8176</td>\n",
       "    </tr>\n",
       "    <tr>\n",
       "      <th>2</th>\n",
       "      <td>Random Forest</td>\n",
       "      <td>0.8600</td>\n",
       "      <td>0.8103</td>\n",
       "      <td>0.7093</td>\n",
       "      <td>0.8045</td>\n",
       "    </tr>\n",
       "    <tr>\n",
       "      <th>3</th>\n",
       "      <td>ANN</td>\n",
       "      <td>0.8492</td>\n",
       "      <td>0.8146</td>\n",
       "      <td>0.7034</td>\n",
       "      <td>0.7797</td>\n",
       "    </tr>\n",
       "  </tbody>\n",
       "</table>\n",
       "</div>"
      ],
      "text/plain": [
       "           Model  Accuracy  Balanced Accuracy  F1 Score  AUC-PR\n",
       "0            GBM    0.8776             0.8178    0.7330  0.8333\n",
       "1       AdaBoost    0.8626             0.8194    0.7193  0.8176\n",
       "2  Random Forest    0.8600             0.8103    0.7093  0.8045\n",
       "3            ANN    0.8492             0.8146    0.7034  0.7797"
      ]
     },
     "execution_count": 13,
     "metadata": {},
     "output_type": "execute_result"
    }
   ],
   "source": [
    "# Dictionary to collect all results\n",
    "metrics_summary = {\n",
    "    \"Model\": [],\n",
    "    \"Accuracy\": [],\n",
    "    \"Balanced Accuracy\": [],\n",
    "    \"F1 Score\": [],\n",
    "    \"AUC-PR\": []\n",
    "}\n",
    "\n",
    "# Add metrics for each model\n",
    "models = {\n",
    "    \"GBM\": (y_pred_best_gbm, gbm_probs),\n",
    "    \"AdaBoost\": (y_pred_best_ab, ab_probs),\n",
    "    \"Random Forest\": (y_pred_best_rf, rf_probs),\n",
    "    \"ANN\": (y_pred_best_ann, ann_probs)\n",
    "}\n",
    "\n",
    "for model_name, (preds, probs) in models.items():\n",
    "    metrics_summary[\"Model\"].append(model_name)\n",
    "    metrics_summary[\"Accuracy\"].append(accuracy_score(y_test, preds))\n",
    "    metrics_summary[\"Balanced Accuracy\"].append(balanced_accuracy_score(y_test, preds))\n",
    "    metrics_summary[\"F1 Score\"].append(f1_score(y_test, preds))\n",
    "    metrics_summary[\"AUC-PR\"].append(average_precision_score(y_test, probs))\n",
    "\n",
    "# Convert to DataFrame\n",
    "metrics_df = pd.DataFrame(metrics_summary)\n",
    "\n",
    "# Display the summary\n",
    "print(\"\\n📋 Model Evaluation Summary for best threshold:\\n\")\n",
    "metrics_df.round(4)"
   ]
  },
  {
   "cell_type": "markdown",
   "id": "d41f29e1",
   "metadata": {},
   "source": [
    "## Model Evaluation and Best Model Selection\n",
    "\n",
    "### 1. Evaluation Using Default 0.5 Threshold\n",
    "\n",
    "Initially, I evaluated all models using the default threshold value of **0.5**, which is commonly used in binary classification tasks.  \n",
    "For each model, I calculated **Accuracy**, **Balanced Accuracy**, **F1 Score**, and **AUC-PR**.\n",
    "\n",
    "As shown in the table below, **GBM** achieved the highest Accuracy at **87.57%** and also led with an **F1 Score of 0.7183**.  \n",
    "On the other hand, **ANN** showed the lowest performance across most of the metrics.\n",
    "\n",
    "However, this evaluation is based on a default threshold, and considering our dataset is imbalanced, this might not provide the most reliable insight — especially for the minority class ('>50K').\n",
    "\n",
    "| Model          | Accuracy | Balanced Accuracy | F1 Score | AUC-PR |\n",
    "|----------------|----------|--------------------|----------|--------|\n",
    "| GBM            | 0.8757   | 0.8028              | 0.7183   | 0.8333 |\n",
    "| AdaBoost       | 0.8687   | 0.7861              | 0.6956   | 0.8176 |\n",
    "| Random Forest  | 0.8665   | 0.7826              | 0.6900   | 0.8045 |\n",
    "| ANN            | 0.8589   | 0.7834              | 0.6839   | 0.7797 |\n",
    "\n",
    "---\n",
    "\n",
    "### 2. Threshold Optimization Using AUC-PR Curve\n",
    "\n",
    "Since the dataset is imbalanced — with fewer samples belonging to the '**>50K**' class — using a fixed 0.5 threshold may not yield the best results, particularly for the minority class.\n",
    "\n",
    "To address this, I optimized the decision threshold for each model individually.  \n",
    "I used the **Precision-Recall (AUC-PR) curve** to find the threshold that gives the **highest F1 Score**.\n",
    "\n",
    "After re-evaluating the models with the optimized thresholds, **GBM** again delivered the best performance, now with an even higher **F1 Score of 0.7330** and **Accuracy of 87.76%**.  \n",
    "Other models like **AdaBoost** and **Random Forest** also showed slight improvements but still couldn’t match GBM’s performance.\n",
    "\n",
    "| Model          | Accuracy | Balanced Accuracy | F1 Score | AUC-PR |\n",
    "|----------------|----------|--------------------|----------|--------|\n",
    "| GBM            | 0.8776   | 0.8178              | 0.7330   | 0.8333 |\n",
    "| AdaBoost       | 0.8626   | 0.8194              | 0.7193   | 0.8176 |\n",
    "| Random Forest  | 0.8600   | 0.8103              | 0.7093   | 0.8045 |\n",
    "| ANN            | 0.8492   | 0.8146              | 0.7034   | 0.7797 |\n",
    "\n",
    "---\n",
    "\n",
    "### 3. Model Selection Criteria and Final Decision\n",
    "\n",
    "When selecting the best model, I focused mainly on two metrics:\n",
    "\n",
    "- **Accuracy**: Reflects how well the model performs across both classes.\n",
    "- **F1 Score**: Focuses on the model's ability to correctly predict the minority class (`>50K`).\n",
    "\n",
    "While all models showed improvements after threshold optimization, **GBM consistently outperformed the others** in both Accuracy and F1 Score.\n",
    "\n",
    "**Therefore, based on the evaluation results, I selected the Gradient Boosting Machine (GBM) as the best-performing model for this task.**\n",
    "\n"
   ]
  },
  {
   "cell_type": "code",
   "execution_count": null,
   "id": "d0c6050e",
   "metadata": {},
   "outputs": [],
   "source": []
  }
 ],
 "metadata": {
  "kernelspec": {
   "display_name": "Python 3.9 (tensorflow)",
   "language": "python",
   "name": "tensorflow"
  },
  "language_info": {
   "codemirror_mode": {
    "name": "ipython",
    "version": 3
   },
   "file_extension": ".py",
   "mimetype": "text/x-python",
   "name": "python",
   "nbconvert_exporter": "python",
   "pygments_lexer": "ipython3",
   "version": "3.9.18"
  }
 },
 "nbformat": 4,
 "nbformat_minor": 5
}
